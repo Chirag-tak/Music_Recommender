{
 "cells": [
  {
   "cell_type": "code",
   "execution_count": 81,
   "id": "36decabf-ec9b-4ab3-8bfc-4069fd081f1d",
   "metadata": {},
   "outputs": [],
   "source": [
    "import pandas as pd"
   ]
  },
  {
   "cell_type": "code",
   "execution_count": 82,
   "id": "3cd8358e-c57b-4762-8cc1-563a3e34e476",
   "metadata": {},
   "outputs": [],
   "source": [
    "df=pd.read_csv(\"spotify_millsongdata.csv\")\n",
    "df.to_pickle(\"spotify_millsongdata.pkl\")\n",
    "loaded_df = pd.read_pickle(\"spotify_millsongdata.pkl\")\n",
    "pkl_file = \"df.pkl\"\n",
    "df.to_pickle(pkl_file)"
   ]
  },
  {
   "cell_type": "code",
   "execution_count": 83,
   "id": "8889ae1d-c932-4863-9243-80f7a57806ba",
   "metadata": {},
   "outputs": [
    {
     "data": {
      "text/html": [
       "<div>\n",
       "<style scoped>\n",
       "    .dataframe tbody tr th:only-of-type {\n",
       "        vertical-align: middle;\n",
       "    }\n",
       "\n",
       "    .dataframe tbody tr th {\n",
       "        vertical-align: top;\n",
       "    }\n",
       "\n",
       "    .dataframe thead th {\n",
       "        text-align: right;\n",
       "    }\n",
       "</style>\n",
       "<table border=\"1\" class=\"dataframe\">\n",
       "  <thead>\n",
       "    <tr style=\"text-align: right;\">\n",
       "      <th></th>\n",
       "      <th>artist</th>\n",
       "      <th>song</th>\n",
       "      <th>link</th>\n",
       "      <th>text</th>\n",
       "    </tr>\n",
       "  </thead>\n",
       "  <tbody>\n",
       "    <tr>\n",
       "      <th>0</th>\n",
       "      <td>ABBA</td>\n",
       "      <td>Ahe's My Kind Of Girl</td>\n",
       "      <td>/a/abba/ahes+my+kind+of+girl_20598417.html</td>\n",
       "      <td>Look at her face, it's a wonderful face  \\nAnd...</td>\n",
       "    </tr>\n",
       "    <tr>\n",
       "      <th>1</th>\n",
       "      <td>ABBA</td>\n",
       "      <td>Andante, Andante</td>\n",
       "      <td>/a/abba/andante+andante_20002708.html</td>\n",
       "      <td>Take it easy with me, please  \\nTouch me gentl...</td>\n",
       "    </tr>\n",
       "    <tr>\n",
       "      <th>2</th>\n",
       "      <td>ABBA</td>\n",
       "      <td>As Good As New</td>\n",
       "      <td>/a/abba/as+good+as+new_20003033.html</td>\n",
       "      <td>I'll never know why I had to go  \\nWhy I had t...</td>\n",
       "    </tr>\n",
       "    <tr>\n",
       "      <th>3</th>\n",
       "      <td>ABBA</td>\n",
       "      <td>Bang</td>\n",
       "      <td>/a/abba/bang_20598415.html</td>\n",
       "      <td>Making somebody happy is a question of give an...</td>\n",
       "    </tr>\n",
       "    <tr>\n",
       "      <th>4</th>\n",
       "      <td>ABBA</td>\n",
       "      <td>Bang-A-Boomerang</td>\n",
       "      <td>/a/abba/bang+a+boomerang_20002668.html</td>\n",
       "      <td>Making somebody happy is a question of give an...</td>\n",
       "    </tr>\n",
       "  </tbody>\n",
       "</table>\n",
       "</div>"
      ],
      "text/plain": [
       "  artist                   song                                        link  \\\n",
       "0   ABBA  Ahe's My Kind Of Girl  /a/abba/ahes+my+kind+of+girl_20598417.html   \n",
       "1   ABBA       Andante, Andante       /a/abba/andante+andante_20002708.html   \n",
       "2   ABBA         As Good As New        /a/abba/as+good+as+new_20003033.html   \n",
       "3   ABBA                   Bang                  /a/abba/bang_20598415.html   \n",
       "4   ABBA       Bang-A-Boomerang      /a/abba/bang+a+boomerang_20002668.html   \n",
       "\n",
       "                                                text  \n",
       "0  Look at her face, it's a wonderful face  \\nAnd...  \n",
       "1  Take it easy with me, please  \\nTouch me gentl...  \n",
       "2  I'll never know why I had to go  \\nWhy I had t...  \n",
       "3  Making somebody happy is a question of give an...  \n",
       "4  Making somebody happy is a question of give an...  "
      ]
     },
     "execution_count": 83,
     "metadata": {},
     "output_type": "execute_result"
    }
   ],
   "source": [
    "df.head(5)"
   ]
  },
  {
   "cell_type": "code",
   "execution_count": 84,
   "id": "0277a119-9ea5-4868-a47c-76bbc2b0acab",
   "metadata": {},
   "outputs": [
    {
     "data": {
      "text/html": [
       "<div>\n",
       "<style scoped>\n",
       "    .dataframe tbody tr th:only-of-type {\n",
       "        vertical-align: middle;\n",
       "    }\n",
       "\n",
       "    .dataframe tbody tr th {\n",
       "        vertical-align: top;\n",
       "    }\n",
       "\n",
       "    .dataframe thead th {\n",
       "        text-align: right;\n",
       "    }\n",
       "</style>\n",
       "<table border=\"1\" class=\"dataframe\">\n",
       "  <thead>\n",
       "    <tr style=\"text-align: right;\">\n",
       "      <th></th>\n",
       "      <th>artist</th>\n",
       "      <th>song</th>\n",
       "      <th>link</th>\n",
       "      <th>text</th>\n",
       "    </tr>\n",
       "  </thead>\n",
       "  <tbody>\n",
       "    <tr>\n",
       "      <th>19143</th>\n",
       "      <td>Taylor Swift</td>\n",
       "      <td>Jump Then Fall</td>\n",
       "      <td>/t/taylor+swift/jump+then+fall_20858034.html</td>\n",
       "      <td>I like the way you sound in the morning,  \\nWe...</td>\n",
       "    </tr>\n",
       "    <tr>\n",
       "      <th>19144</th>\n",
       "      <td>Taylor Swift</td>\n",
       "      <td>Last Kiss</td>\n",
       "      <td>/t/taylor+swift/last+kiss_20892702.html</td>\n",
       "      <td>I still remember the look on your face  \\nLit ...</td>\n",
       "    </tr>\n",
       "    <tr>\n",
       "      <th>19145</th>\n",
       "      <td>Taylor Swift</td>\n",
       "      <td>Live For The Little Things</td>\n",
       "      <td>/t/taylor+swift/live+for+the+little+things_209...</td>\n",
       "      <td>One day break, one heart ache, every once upon...</td>\n",
       "    </tr>\n",
       "    <tr>\n",
       "      <th>19146</th>\n",
       "      <td>Taylor Swift</td>\n",
       "      <td>Long Live</td>\n",
       "      <td>/t/taylor+swift/long+live_20892705.html</td>\n",
       "      <td>I said remember this moment  \\nIn the back of ...</td>\n",
       "    </tr>\n",
       "    <tr>\n",
       "      <th>19147</th>\n",
       "      <td>Taylor Swift</td>\n",
       "      <td>Love Story</td>\n",
       "      <td>/t/taylor+swift/love+story_20757542.html</td>\n",
       "      <td>We were both young when I first saw you  \\nI c...</td>\n",
       "    </tr>\n",
       "  </tbody>\n",
       "</table>\n",
       "</div>"
      ],
      "text/plain": [
       "             artist                        song  \\\n",
       "19143  Taylor Swift              Jump Then Fall   \n",
       "19144  Taylor Swift                   Last Kiss   \n",
       "19145  Taylor Swift  Live For The Little Things   \n",
       "19146  Taylor Swift                   Long Live   \n",
       "19147  Taylor Swift                  Love Story   \n",
       "\n",
       "                                                    link  \\\n",
       "19143       /t/taylor+swift/jump+then+fall_20858034.html   \n",
       "19144            /t/taylor+swift/last+kiss_20892702.html   \n",
       "19145  /t/taylor+swift/live+for+the+little+things_209...   \n",
       "19146            /t/taylor+swift/long+live_20892705.html   \n",
       "19147           /t/taylor+swift/love+story_20757542.html   \n",
       "\n",
       "                                                    text  \n",
       "19143  I like the way you sound in the morning,  \\nWe...  \n",
       "19144  I still remember the look on your face  \\nLit ...  \n",
       "19145  One day break, one heart ache, every once upon...  \n",
       "19146  I said remember this moment  \\nIn the back of ...  \n",
       "19147  We were both young when I first saw you  \\nI c...  "
      ]
     },
     "execution_count": 84,
     "metadata": {},
     "output_type": "execute_result"
    }
   ],
   "source": [
    "df.tail(5)"
   ]
  },
  {
   "cell_type": "code",
   "execution_count": 85,
   "id": "0340abf5-97d5-489a-a1cd-bfccac55c6a2",
   "metadata": {},
   "outputs": [
    {
     "data": {
      "text/plain": [
       "(19148, 4)"
      ]
     },
     "execution_count": 85,
     "metadata": {},
     "output_type": "execute_result"
    }
   ],
   "source": [
    "df.shape"
   ]
  },
  {
   "cell_type": "code",
   "execution_count": 86,
   "id": "71e73d52-99bc-4c5d-9504-6cb08aa9e2f8",
   "metadata": {},
   "outputs": [
    {
     "data": {
      "text/plain": [
       "artist    0\n",
       "song      0\n",
       "link      0\n",
       "text      0\n",
       "dtype: int64"
      ]
     },
     "execution_count": 86,
     "metadata": {},
     "output_type": "execute_result"
    }
   ],
   "source": [
    "df.isnull().sum()"
   ]
  },
  {
   "cell_type": "code",
   "execution_count": 87,
   "id": "9e070583-2749-4091-ad20-c6cbef385779",
   "metadata": {},
   "outputs": [],
   "source": [
    "df=df.sample(5000).drop('link',axis=1).reset_index(drop=True)"
   ]
  },
  {
   "cell_type": "code",
   "execution_count": 57,
   "id": "7fb6a77b-bbcf-403e-aace-e4d2c887d4ab",
   "metadata": {},
   "outputs": [
    {
     "data": {
      "text/html": [
       "<div>\n",
       "<style scoped>\n",
       "    .dataframe tbody tr th:only-of-type {\n",
       "        vertical-align: middle;\n",
       "    }\n",
       "\n",
       "    .dataframe tbody tr th {\n",
       "        vertical-align: top;\n",
       "    }\n",
       "\n",
       "    .dataframe thead th {\n",
       "        text-align: right;\n",
       "    }\n",
       "</style>\n",
       "<table border=\"1\" class=\"dataframe\">\n",
       "  <thead>\n",
       "    <tr style=\"text-align: right;\">\n",
       "      <th></th>\n",
       "      <th>artist</th>\n",
       "      <th>song</th>\n",
       "      <th>text</th>\n",
       "    </tr>\n",
       "  </thead>\n",
       "  <tbody>\n",
       "    <tr>\n",
       "      <th>0</th>\n",
       "      <td>Nirvana</td>\n",
       "      <td>My Sharona</td>\n",
       "      <td>Ooh, my little pretty one, my pretty one  \\nWh...</td>\n",
       "    </tr>\n",
       "    <tr>\n",
       "      <th>1</th>\n",
       "      <td>Great Big Sea</td>\n",
       "      <td>Summer</td>\n",
       "      <td>She doesn't see the coming fall  \\nShe doesn't...</td>\n",
       "    </tr>\n",
       "    <tr>\n",
       "      <th>2</th>\n",
       "      <td>Lou Reed</td>\n",
       "      <td>City Lights</td>\n",
       "      <td>Don't these city lights light these streets to...</td>\n",
       "    </tr>\n",
       "    <tr>\n",
       "      <th>3</th>\n",
       "      <td>Red Hot Chili Peppers</td>\n",
       "      <td>Make You Feel Better</td>\n",
       "      <td>She's the one she's the only one  \\nShe's got ...</td>\n",
       "    </tr>\n",
       "    <tr>\n",
       "      <th>4</th>\n",
       "      <td>Air Supply</td>\n",
       "      <td>Body Glove</td>\n",
       "      <td>The more you win, the more you gain  \\nAn open...</td>\n",
       "    </tr>\n",
       "    <tr>\n",
       "      <th>5</th>\n",
       "      <td>Puff Daddy</td>\n",
       "      <td>Feelin' So Good (Bad Boy Remix)</td>\n",
       "      <td>Damn, you look good  \\n  \\nRap by P. Diddy  \\n...</td>\n",
       "    </tr>\n",
       "    <tr>\n",
       "      <th>6</th>\n",
       "      <td>Rolling Stones</td>\n",
       "      <td>Laugh, I Nearly Died</td>\n",
       "      <td>I've been traveling but I don't know where  \\n...</td>\n",
       "    </tr>\n",
       "    <tr>\n",
       "      <th>7</th>\n",
       "      <td>New Order</td>\n",
       "      <td>Ultraviolence</td>\n",
       "      <td>Who saw those dark eyes  \\nWho saw those dark ...</td>\n",
       "    </tr>\n",
       "    <tr>\n",
       "      <th>8</th>\n",
       "      <td>Owl City</td>\n",
       "      <td>Strawberry Avalanche</td>\n",
       "      <td>This is a world of dreams and reverie  \\nWhere...</td>\n",
       "    </tr>\n",
       "    <tr>\n",
       "      <th>9</th>\n",
       "      <td>Old 97's</td>\n",
       "      <td>Just Like California</td>\n",
       "      <td>Just like California was not even there  \\nSin...</td>\n",
       "    </tr>\n",
       "  </tbody>\n",
       "</table>\n",
       "</div>"
      ],
      "text/plain": [
       "                  artist                             song  \\\n",
       "0                Nirvana                       My Sharona   \n",
       "1          Great Big Sea                           Summer   \n",
       "2               Lou Reed                      City Lights   \n",
       "3  Red Hot Chili Peppers             Make You Feel Better   \n",
       "4             Air Supply                       Body Glove   \n",
       "5             Puff Daddy  Feelin' So Good (Bad Boy Remix)   \n",
       "6         Rolling Stones             Laugh, I Nearly Died   \n",
       "7              New Order                    Ultraviolence   \n",
       "8               Owl City             Strawberry Avalanche   \n",
       "9               Old 97's             Just Like California   \n",
       "\n",
       "                                                text  \n",
       "0  Ooh, my little pretty one, my pretty one  \\nWh...  \n",
       "1  She doesn't see the coming fall  \\nShe doesn't...  \n",
       "2  Don't these city lights light these streets to...  \n",
       "3  She's the one she's the only one  \\nShe's got ...  \n",
       "4  The more you win, the more you gain  \\nAn open...  \n",
       "5  Damn, you look good  \\n  \\nRap by P. Diddy  \\n...  \n",
       "6  I've been traveling but I don't know where  \\n...  \n",
       "7  Who saw those dark eyes  \\nWho saw those dark ...  \n",
       "8  This is a world of dreams and reverie  \\nWhere...  \n",
       "9  Just like California was not even there  \\nSin...  "
      ]
     },
     "execution_count": 57,
     "metadata": {},
     "output_type": "execute_result"
    }
   ],
   "source": [
    "df.head(10)"
   ]
  },
  {
   "cell_type": "code",
   "execution_count": 58,
   "id": "3b95ebac-03f8-4b2a-9905-9e8cef4c7e09",
   "metadata": {},
   "outputs": [
    {
     "data": {
      "text/plain": [
       "\"Ooh, my little pretty one, my pretty one  \\nWhen you gonna give me some time, Sharona  \\nOoh, you make my motor run, my motor run  \\nGot it comin' off o' the line, Sharona  \\n  \\nNever gonna stop, give it up, such a dirty mind  \\nI always get it up for the touch of the younger kind  \\nMy, my, my, aye-aye, whoa!  \\nM-m-m-my Sharona  \\n  \\nCome a little closer, huh, a-will ya, huh?  \\nClose enough to look in my eyes, Sharona  \\nKeepin' it a mystery, it gets to me  \\nRunnin' down the length of my thigh, Sharona  \\n  \\nNever gonna stop, give it up, such a dirty mind  \\nI always get it up for the touch of the younger kind  \\nMy, my, my, aye-aye, whoa!  \\nM-m-m-my Sharona  \\nM-m-m-my Sharona  \\n  \\nWhen you gonna give to me, a gift to me  \\nIs it just a matter of time, Sharona?  \\nIs it d-d-destiny, d-destiny  \\nOr is it just a game in my mind, Sharona?  \\n  \\nNever gonna stop, give it up, such a dirty mind  \\nI always get it up for the touch of the younger kind  \\nMy, my, my, aye-aye, whoa!  \\nM-m-m-m-m-m-m-my, my, my, aye-aye, whoa!  \\nM-m-m-my Sharona  \\nM-m-m-my Sharona  \\nM-m-m-my Sharona  \\nM-m-m-my Sharona  \\n  \\nOoooooo-ohhh, my Sharona  \\nOoooooo-ohhh, my Sharona  \\nOoooooo-ohhh, my Sharona\\n\\n\""
      ]
     },
     "execution_count": 58,
     "metadata": {},
     "output_type": "execute_result"
    }
   ],
   "source": [
    "df['text'][0]"
   ]
  },
  {
   "cell_type": "code",
   "execution_count": null,
   "id": "530bb846-dc41-436b-b78d-d619b202cf79",
   "metadata": {},
   "outputs": [],
   "source": []
  },
  {
   "cell_type": "code",
   "execution_count": 59,
   "id": "49c8f138-5283-4fab-a369-50213a5356f4",
   "metadata": {},
   "outputs": [
    {
     "data": {
      "text/plain": [
       "(5000, 3)"
      ]
     },
     "execution_count": 59,
     "metadata": {},
     "output_type": "execute_result"
    }
   ],
   "source": [
    "df.shape"
   ]
  },
  {
   "cell_type": "markdown",
   "id": "7497412f-30e8-4172-83e4-09563a347a6f",
   "metadata": {},
   "source": [
    "text cleaning"
   ]
  },
  {
   "cell_type": "code",
   "execution_count": 60,
   "id": "1a6b84e1-cdce-4d67-8f6e-73b8afea95dd",
   "metadata": {},
   "outputs": [],
   "source": [
    "df['text']=df['text'].str.lower().replace(r'^\\w\\s', '').replace(r'\\n', ' ', regex=True)"
   ]
  },
  {
   "cell_type": "code",
   "execution_count": 61,
   "id": "c91f0c55-afd8-4ac3-aaac-526b0c9afa49",
   "metadata": {},
   "outputs": [
    {
     "data": {
      "text/html": [
       "<div>\n",
       "<style scoped>\n",
       "    .dataframe tbody tr th:only-of-type {\n",
       "        vertical-align: middle;\n",
       "    }\n",
       "\n",
       "    .dataframe tbody tr th {\n",
       "        vertical-align: top;\n",
       "    }\n",
       "\n",
       "    .dataframe thead th {\n",
       "        text-align: right;\n",
       "    }\n",
       "</style>\n",
       "<table border=\"1\" class=\"dataframe\">\n",
       "  <thead>\n",
       "    <tr style=\"text-align: right;\">\n",
       "      <th></th>\n",
       "      <th>artist</th>\n",
       "      <th>song</th>\n",
       "      <th>text</th>\n",
       "    </tr>\n",
       "  </thead>\n",
       "  <tbody>\n",
       "    <tr>\n",
       "      <th>4995</th>\n",
       "      <td>Slayer</td>\n",
       "      <td>Bitter Peace</td>\n",
       "      <td>initiate blood purge   coalition in massacre  ...</td>\n",
       "    </tr>\n",
       "    <tr>\n",
       "      <th>4996</th>\n",
       "      <td>Rammstein</td>\n",
       "      <td>Stein Um Stein (English Translation)</td>\n",
       "      <td>i have a plan, a big plan   i'll build you a h...</td>\n",
       "    </tr>\n",
       "    <tr>\n",
       "      <th>4997</th>\n",
       "      <td>David Allan Coe</td>\n",
       "      <td>Follow Me</td>\n",
       "      <td>i want you to love the things you love and eve...</td>\n",
       "    </tr>\n",
       "    <tr>\n",
       "      <th>4998</th>\n",
       "      <td>Electric Light Orchestra</td>\n",
       "      <td>Look At Me Now</td>\n",
       "      <td>someone is waiting, lurking in the trees   the...</td>\n",
       "    </tr>\n",
       "    <tr>\n",
       "      <th>4999</th>\n",
       "      <td>Richard Marx</td>\n",
       "      <td>The Way She Loves Me</td>\n",
       "      <td>i'll have this feeling 'till the day that i di...</td>\n",
       "    </tr>\n",
       "  </tbody>\n",
       "</table>\n",
       "</div>"
      ],
      "text/plain": [
       "                        artist                                  song  \\\n",
       "4995                    Slayer                          Bitter Peace   \n",
       "4996                 Rammstein  Stein Um Stein (English Translation)   \n",
       "4997           David Allan Coe                             Follow Me   \n",
       "4998  Electric Light Orchestra                        Look At Me Now   \n",
       "4999              Richard Marx                  The Way She Loves Me   \n",
       "\n",
       "                                                   text  \n",
       "4995  initiate blood purge   coalition in massacre  ...  \n",
       "4996  i have a plan, a big plan   i'll build you a h...  \n",
       "4997  i want you to love the things you love and eve...  \n",
       "4998  someone is waiting, lurking in the trees   the...  \n",
       "4999  i'll have this feeling 'till the day that i di...  "
      ]
     },
     "execution_count": 61,
     "metadata": {},
     "output_type": "execute_result"
    }
   ],
   "source": [
    "df.tail(5)"
   ]
  },
  {
   "cell_type": "code",
   "execution_count": 62,
   "id": "b320aa31-6f7e-4a41-b29c-f6b92483e9b6",
   "metadata": {},
   "outputs": [],
   "source": [
    "import nltk\n",
    "from nltk.stem.porter import PorterStemmer"
   ]
  },
  {
   "cell_type": "code",
   "execution_count": 63,
   "id": "701f0225-d5ed-4aaf-9e4e-9ee87c52a3e1",
   "metadata": {},
   "outputs": [],
   "source": [
    "stemmer = PorterStemmer()"
   ]
  },
  {
   "cell_type": "code",
   "execution_count": 64,
   "id": "dd32cc1d-447d-4677-ab72-0c288187a3a7",
   "metadata": {},
   "outputs": [],
   "source": [
    "def token(txt):\n",
    "    token= nltk.word_tokenize(txt)\n",
    "    a=[stemmer.stem(w)  for w in token]\n",
    "    return \" \".join(a)"
   ]
  },
  {
   "cell_type": "code",
   "execution_count": 65,
   "id": "d22e1e7d-6d2b-49b9-b3ad-c328d9b06ec9",
   "metadata": {},
   "outputs": [
    {
     "data": {
      "text/plain": [
       "'you are beauti , beauti'"
      ]
     },
     "execution_count": 65,
     "metadata": {},
     "output_type": "execute_result"
    }
   ],
   "source": [
    "token(\"you are beautiful, beauty\")"
   ]
  },
  {
   "cell_type": "code",
   "execution_count": 66,
   "id": "e8c41113-c7f6-43f0-9dd9-dccc6acc33a8",
   "metadata": {},
   "outputs": [
    {
     "data": {
      "text/plain": [
       "0       ooh , my littl pretti one , my pretti one when...\n",
       "1       she doe n't see the come fall she doe n't show...\n",
       "2       do n't these citi light light these street to ...\n",
       "3       she 's the one she 's the onli one she 's got ...\n",
       "4       the more you win , the more you gain an open w...\n",
       "                              ...                        \n",
       "4995    initi blood purg coalit in massacr mechan high...\n",
       "4996    i have a plan , a big plan i 'll build you a h...\n",
       "4997    i want you to love the thing you love and even...\n",
       "4998    someon is wait , lurk in the tree the spirit o...\n",
       "4999    i 'll have thi feel 'till the day that i die w...\n",
       "Name: text, Length: 5000, dtype: object"
      ]
     },
     "execution_count": 66,
     "metadata": {},
     "output_type": "execute_result"
    }
   ],
   "source": [
    "df['text'].apply(lambda x: token(x))"
   ]
  },
  {
   "cell_type": "code",
   "execution_count": 67,
   "id": "cdace5a3-3bf4-4195-b8a0-6d43101fcf5d",
   "metadata": {},
   "outputs": [],
   "source": [
    "from sklearn.feature_extraction.text import TfidfVectorizer\n",
    "from sklearn.metrics.pairwise import cosine_similarity"
   ]
  },
  {
   "cell_type": "code",
   "execution_count": 68,
   "id": "72bfd2f1-8c58-42f0-ac4f-0f0167ab14f4",
   "metadata": {},
   "outputs": [],
   "source": [
    "tfidd = TfidfVectorizer(analyzer='word', stop_words='english')"
   ]
  },
  {
   "cell_type": "code",
   "execution_count": 69,
   "id": "d97587f6-c7e9-481b-b80a-008fcb344f79",
   "metadata": {},
   "outputs": [],
   "source": [
    "tfidf_vectorizer = TfidfVectorizer()\n",
    "matrix = tfidf_vectorizer.fit_transform(df['text'])"
   ]
  },
  {
   "cell_type": "code",
   "execution_count": 70,
   "id": "703527c7-0fa3-4ef1-a99a-a999c3804d21",
   "metadata": {},
   "outputs": [],
   "source": [
    "similar=cosine_similarity(matrix)"
   ]
  },
  {
   "cell_type": "code",
   "execution_count": 71,
   "id": "ded8b5ac-7de8-4560-a5ff-c44aac718801",
   "metadata": {},
   "outputs": [
    {
     "data": {
      "text/plain": [
       "array([1.        , 0.02768862, 0.01485689, ..., 0.03330528, 0.02728926,\n",
       "       0.08269506])"
      ]
     },
     "execution_count": 71,
     "metadata": {},
     "output_type": "execute_result"
    }
   ],
   "source": [
    "similar[0]"
   ]
  },
  {
   "cell_type": "code",
   "execution_count": 72,
   "id": "79d4c65a-7a74-4154-b671-65bb200e24d0",
   "metadata": {},
   "outputs": [
    {
     "name": "stdout",
     "output_type": "stream",
     "text": [
      "No occurrences found for 'Waiting For The Man' in the 'song' column.\n"
     ]
    }
   ],
   "source": [
    "# Check if the DataFrame is not empty\n",
    "if not df[df['song']=='Left Alone'].empty:\n",
    "    # Access the index of the first occurrence\n",
    "    index_of_first_occurrence = df[df['song']=='Left Alone'].index[0]\n",
    "    print(index_of_first_occurrence)\n",
    "else:\n",
    "    print(\"No occurrences found for 'Waiting For The Man' in the 'song' column.\")\n"
   ]
  },
  {
   "cell_type": "code",
   "execution_count": 73,
   "id": "52cfca4e-30e7-42c4-bc38-cd80261bdbe0",
   "metadata": {},
   "outputs": [],
   "source": [
    "def recommender(song_name):\n",
    "    idx =  df[df['song']==song_name].index[0]\n",
    "    distance = sorted(list(enumerate(similar[idx])), reverse=True, key = lambda x:x[1])\n",
    "    song=[]\n",
    "    for s_id in distance[1:21]:\n",
    "        song.append(df.iloc[s_id[0]].song)\n",
    "    return song\n",
    "    "
   ]
  },
  {
   "cell_type": "code",
   "execution_count": null,
   "id": "c518b54f-da5e-4a5a-83d1-acafac5a5df8",
   "metadata": {},
   "outputs": [],
   "source": [
    "recommender(\"Enough For You\")"
   ]
  },
  {
   "cell_type": "code",
   "execution_count": null,
   "id": "0f51292d-ba1b-4c36-b195-aa3aea9d3896",
   "metadata": {},
   "outputs": [],
   "source": [
    "import pickle"
   ]
  },
  {
   "cell_type": "code",
   "execution_count": 75,
   "id": "8933413d-dfe2-4a2f-bc02-20346def9927",
   "metadata": {},
   "outputs": [],
   "source": [
    "pickle.dump(similar, open(\"similarity.pkl\", \"wb\"))"
   ]
  },
  {
   "cell_type": "code",
   "execution_count": null,
   "id": "69c113bb-25e6-4755-825e-5f5cb20b34a0",
   "metadata": {},
   "outputs": [],
   "source": []
  },
  {
   "cell_type": "code",
   "execution_count": null,
   "id": "845e0121-5de0-48f0-97e6-94ccd0024e28",
   "metadata": {},
   "outputs": [],
   "source": [
    "try:\n",
    "    loaded_similar = pickle.load(open(\"similarity\", \"rb\"))\n",
    "    # Use the loaded_similar data as needed\n",
    "    print(\"Successfully loaded data.\")\n",
    "except FileNotFoundError:\n",
    "    print(\"File 'similarity' not found.\")\n",
    "except pickle.UnpicklingError as e:\n",
    "    print(f\"Error loading data: {e}\")"
   ]
  },
  {
   "cell_type": "code",
   "execution_count": null,
   "id": "8efaa3e9-a5c7-40f0-bac4-8812b428fa21",
   "metadata": {},
   "outputs": [],
   "source": []
  },
  {
   "cell_type": "code",
   "execution_count": null,
   "id": "68ae42b0-b1ea-48a0-a23c-74d739442a46",
   "metadata": {},
   "outputs": [],
   "source": []
  },
  {
   "cell_type": "code",
   "execution_count": null,
   "id": "35d2c797-2f87-4b38-9ac1-533e7d0fa823",
   "metadata": {},
   "outputs": [],
   "source": []
  }
 ],
 "metadata": {
  "kernelspec": {
   "display_name": "Python 3 (ipykernel)",
   "language": "python",
   "name": "python3"
  },
  "language_info": {
   "codemirror_mode": {
    "name": "ipython",
    "version": 3
   },
   "file_extension": ".py",
   "mimetype": "text/x-python",
   "name": "python",
   "nbconvert_exporter": "python",
   "pygments_lexer": "ipython3",
   "version": "3.12.1"
  }
 },
 "nbformat": 4,
 "nbformat_minor": 5
}
